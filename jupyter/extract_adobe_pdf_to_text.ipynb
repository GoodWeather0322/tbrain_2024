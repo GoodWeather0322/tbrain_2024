{
 "cells": [
  {
   "cell_type": "code",
   "execution_count": 3,
   "metadata": {},
   "outputs": [
    {
     "name": "stderr",
     "output_type": "stream",
     "text": [
      "/var/folders/jf/0bwp1s010jsd2thjv8s_4kcm0000gn/T/ipykernel_7664/1326738527.py:15: TqdmDeprecationWarning: This function will be removed in tqdm==5.0.0\n",
      "Please use `tqdm.notebook.tqdm` instead of `tqdm.tqdm_notebook`\n",
      "  pbar = tqdm_notebook(total=len(old_pdfs))\n"
     ]
    },
    {
     "data": {
      "application/vnd.jupyter.widget-view+json": {
       "model_id": "c15047accebb4c99a69d61562bb64fee",
       "version_major": 2,
       "version_minor": 0
      },
      "text/plain": [
       "  0%|          | 0/1035 [00:00<?, ?it/s]"
      ]
     },
     "metadata": {},
     "output_type": "display_data"
    },
    {
     "name": "stdout",
     "output_type": "stream",
     "text": [
      "/Users/goodweather/Desktop/workspace/tbrain_2024/source/競賽資料集/reference/finance_adobe_ocr/615.pdf not exists\n"
     ]
    }
   ],
   "source": [
    "import pdfplumber\n",
    "from pathlib import Path\n",
    "from tqdm import tqdm_notebook\n",
    "import json\n",
    "import numpy as np\n",
    "import string\n",
    "\n",
    "old_pdf_folder = Path('/Users/goodweather/Desktop/workspace/tbrain_2024/source/競賽資料集/reference/finance')\n",
    "pdf_folder = Path('/Users/goodweather/Desktop/workspace/tbrain_2024/source/競賽資料集/reference/finance_adobe_ocr')\n",
    "old_pdfs = sorted(old_pdf_folder.glob('*.pdf'))\n",
    "\n",
    "refrence_text_folder = Path('/Users/goodweather/Desktop/workspace/tbrain_2024/source/競賽資料集/reference_text_adobe') / old_pdf_folder.name\n",
    "refrence_text_folder.mkdir(exist_ok=True, parents=True)\n",
    "\n",
    "pbar = tqdm_notebook(total=len(old_pdfs))\n",
    "\n",
    "for old_pdf_file in old_pdfs:\n",
    "    new_pdf_file = pdf_folder / old_pdf_file.name\n",
    "    if not new_pdf_file.exists():\n",
    "        print(f'{new_pdf_file} not exists')\n",
    "        continue\n",
    "\n",
    "    text_file = refrence_text_folder / f'{new_pdf_file.stem}.txt'\n",
    "    texts = []\n",
    "    with pdfplumber.open(new_pdf_file) as pdf:\n",
    "        for i, page in enumerate(pdf.pages):\n",
    "            texts.append(f'**page {i}**')\n",
    "            pdf_page_text = page.extract_text(x_tolerance=3, x_tolerance_ratio=None, y_tolerance=3, layout=False, x_density=7.25, y_density=13)\n",
    "            pdf_page_text_cleaned = pdf_page_text.translate(str.maketrans('', '', string.punctuation + ' 　'))\n",
    "            assert len(pdf_page_text_cleaned) > 10\n",
    "            texts.append(pdf_page_text)\n",
    "            texts.append('\\n')\n",
    "    with open(text_file, 'w') as f:\n",
    "        f.write('\\n'.join(texts))\n",
    "    pbar.update(1)\n",
    "\n",
    "\n",
    "\n",
    "            "
   ]
  },
  {
   "cell_type": "code",
   "execution_count": null,
   "metadata": {},
   "outputs": [],
   "source": []
  },
  {
   "cell_type": "code",
   "execution_count": 10,
   "metadata": {},
   "outputs": [],
   "source": [
    "with open('/Users/goodweather/Desktop/workspace/tbrain_2024/source/競賽資料集/reference/faq/pid_map_content.json', 'r') as f:\n",
    "    pid_map_content = json.load(f)\n",
    "\n",
    "refrence_text_folder = Path('/Users/goodweather/Desktop/workspace/tbrain_2024/source/競賽資料集/reference_text_adobe') / 'faq'\n",
    "refrence_text_folder.mkdir(exist_ok=True, parents=True)\n",
    "\n",
    "for pid, contents in pid_map_content.items():\n",
    "    text_file = refrence_text_folder / f'{pid}.txt'\n",
    "    texts = []\n",
    "    for i, content in enumerate(contents):\n",
    "        question = content['question']\n",
    "        answers = content['answers']\n",
    "        texts.append(f'**question {i+1}**')\n",
    "        texts.append(question)\n",
    "        texts.append(f'**answer {i+1}**')\n",
    "        texts.append('\\n'.join(answers))\n",
    "        texts.append('\\n')\n",
    "    with open(text_file, 'w') as f:\n",
    "        f.write('\\n'.join(texts))"
   ]
  },
  {
   "cell_type": "code",
   "execution_count": null,
   "metadata": {},
   "outputs": [],
   "source": []
  }
 ],
 "metadata": {
  "kernelspec": {
   "display_name": "docxchain",
   "language": "python",
   "name": "python3"
  },
  "language_info": {
   "codemirror_mode": {
    "name": "ipython",
    "version": 3
   },
   "file_extension": ".py",
   "mimetype": "text/x-python",
   "name": "python",
   "nbconvert_exporter": "python",
   "pygments_lexer": "ipython3",
   "version": "3.12.7"
  }
 },
 "nbformat": 4,
 "nbformat_minor": 2
}
