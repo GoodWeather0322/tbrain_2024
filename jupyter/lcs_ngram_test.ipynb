{
 "cells": [
  {
   "cell_type": "code",
   "execution_count": 1,
   "metadata": {},
   "outputs": [
    {
     "name": "stdout",
     "output_type": "stream",
     "text": [
      "['並 批註' '內容 的' '同意 並' '契約 內容' '應 經由' '批註 ？' '本 契約' '的 變更' '經由 誰' '誰 同意'\n",
      " '變更 應']\n"
     ]
    },
    {
     "name": "stderr",
     "output_type": "stream",
     "text": [
      "/opt/anaconda3/envs/tbrain2024/lib/python3.12/site-packages/sklearn/feature_extraction/text.py:521: UserWarning: The parameter 'token_pattern' will not be used since 'tokenizer' is not None'\n",
      "  warnings.warn(\n"
     ]
    }
   ],
   "source": [
    "from sklearn.feature_extraction.text import CountVectorizer\n",
    "\n",
    "def space_tokenizer(text):\n",
    "    return text.split(\" \")\n",
    "\n",
    "vectorizer = CountVectorizer(ngram_range=(2, 2), analyzer='word', tokenizer=space_tokenizer)\n",
    "\n",
    "query_text = '本 契約 內容 的 變更 應 經由 誰 同意 並 批註 ？'\n",
    "query_ngrams = vectorizer.fit_transform([query_text])\n",
    "print(vectorizer.get_feature_names_out())"
   ]
  },
  {
   "cell_type": "code",
   "execution_count": null,
   "metadata": {},
   "outputs": [],
   "source": []
  },
  {
   "cell_type": "code",
   "execution_count": 2,
   "metadata": {},
   "outputs": [
    {
     "name": "stdout",
     "output_type": "stream",
     "text": [
      "[186, 627, 536, 179, 174, 178]\n",
      "['本', '契約', '內容', '的', '變', '更', '應', '經由', '誰', '同意', '並', '批註']\n",
      "['並 批註' '內容 的' '同意 並' '契約 內容' '應 經由' '本 契約' '的 變' '經由 誰' '誰 同意' '變 更'\n",
      " '更 應']\n",
      "source_id: 186\n",
      "1.0\n",
      "source_id: 627\n",
      "4.090909090909091\n",
      "source_id: 536\n",
      "0.45454545454545453\n",
      "source_id: 179\n",
      "0.9090909090909091\n",
      "source_id: 174\n",
      "0.45454545454545453\n",
      "source_id: 178\n",
      "0.36363636363636365\n"
     ]
    }
   ],
   "source": [
    "import json\n",
    "\n",
    "with open('../source/競賽資料集/dataset/preliminary/questions_v2_cleaned_ckip.json') as fp:\n",
    "    questions = json.load(fp)\n",
    "\n",
    "with open('../source/競賽資料集/reference_text/corpus_v2_cleaned_ckip.json') as fp:\n",
    "    corpus = json.load(fp)\n",
    "\n",
    "qid = 4\n",
    "for question in questions:\n",
    "    if question['qid'] == qid:\n",
    "        source = question['source']\n",
    "        query_ws = question['query_ws']\n",
    "        print(source)\n",
    "        print(query_ws)\n",
    "        break\n",
    "\n",
    "vectorizer = CountVectorizer(ngram_range=(2, 2), analyzer='word', tokenizer=space_tokenizer)\n",
    "query_ngrams = vectorizer.fit_transform([' '.join(query_ws)])\n",
    "\n",
    "print(vectorizer.get_feature_names_out())\n",
    "\n",
    "for source_id in source:\n",
    "    print(f'source_id: {source_id}')\n",
    "    source_text = corpus['insurance'][str(source_id)]\n",
    "    doc_ngrams = vectorizer.transform([' '.join(source_text)])\n",
    "    match_count = query_ngrams.dot(doc_ngrams.T).toarray()[0, 0]\n",
    "    # print(match_count)\n",
    "    query_ngram_count = query_ngrams.sum()\n",
    "    ngram_score = match_count / query_ngram_count\n",
    "    print(ngram_score)"
   ]
  },
  {
   "cell_type": "code",
   "execution_count": null,
   "metadata": {},
   "outputs": [],
   "source": []
  },
  {
   "cell_type": "code",
   "execution_count": 11,
   "metadata": {},
   "outputs": [
    {
     "name": "stdout",
     "output_type": "stream",
     "text": [
      "LCS Length (in words): 2\n"
     ]
    }
   ],
   "source": [
    "def dp_word_lcs(query, document):\n",
    "    # 將查詢和文檔分割為單詞列表\n",
    "    if isinstance(query, list):\n",
    "        query_words = query\n",
    "    else:\n",
    "        query_words = query.split()\n",
    "        \n",
    "    if isinstance(document, list):\n",
    "        document_words = document\n",
    "    else:\n",
    "        document_words = document.split()\n",
    "    \n",
    "    # 初始化動態規劃表格，大小為 (len(query_words) + 1) x (len(document_words) + 1)\n",
    "    dp = [[0] * (len(document_words) + 1) for _ in range(len(query_words) + 1)]\n",
    "    \n",
    "    # 填充 DP 表格\n",
    "    for i in range(1, len(query_words) + 1):\n",
    "        for j in range(1, len(document_words) + 1):\n",
    "            if query_words[i - 1] == document_words[j - 1]:  # 單詞匹配\n",
    "                dp[i][j] = dp[i - 1][j - 1] + 1\n",
    "            else:\n",
    "                dp[i][j] = max(dp[i - 1][j], dp[i][j - 1])\n",
    "    \n",
    "    # LCS 長度位於表格的右下角\n",
    "    return dp[len(query_words)][len(document_words)]\n",
    "\n",
    "query = \"example query\"\n",
    "document = \"this is an example document containing query words\"\n",
    "lcs_length = dp_word_lcs(query, document)\n",
    "print(\"LCS Length (in words):\", lcs_length)"
   ]
  },
  {
   "cell_type": "code",
   "execution_count": 12,
   "metadata": {},
   "outputs": [
    {
     "name": "stdout",
     "output_type": "stream",
     "text": [
      "[186, 627, 536, 179, 174, 178]\n",
      "['本', '契約', '內容', '的', '變', '更', '應', '經由', '誰', '同意', '並', '批註']\n",
      "source_id: 186\n",
      "8\n",
      "source_id: 627\n",
      "8\n",
      "source_id: 536\n",
      "5\n",
      "source_id: 179\n",
      "8\n",
      "source_id: 174\n",
      "5\n",
      "source_id: 178\n",
      "5\n"
     ]
    }
   ],
   "source": [
    "import json\n",
    "\n",
    "with open('../source/競賽資料集/dataset/preliminary/questions_v2_cleaned_ckip.json') as fp:\n",
    "    questions = json.load(fp)\n",
    "\n",
    "with open('../source/競賽資料集/reference_text/corpus_v2_cleaned_ckip.json') as fp:\n",
    "    corpus = json.load(fp)\n",
    "\n",
    "qid = 4\n",
    "for question in questions:\n",
    "    if question['qid'] == qid:\n",
    "        source = question['source']\n",
    "        query_ws = question['query_ws']\n",
    "        print(source)\n",
    "        print(query_ws)\n",
    "        break\n",
    "    \n",
    "for source_id in source:\n",
    "    print(f'source_id: {source_id}')\n",
    "    source_text = corpus['insurance'][str(source_id)]\n",
    "    lcs_length = dp_word_lcs(query_ws, source_text)\n",
    "    print(lcs_length)"
   ]
  },
  {
   "cell_type": "code",
   "execution_count": null,
   "metadata": {},
   "outputs": [],
   "source": []
  }
 ],
 "metadata": {
  "kernelspec": {
   "display_name": "tbrain2024",
   "language": "python",
   "name": "python3"
  },
  "language_info": {
   "codemirror_mode": {
    "name": "ipython",
    "version": 3
   },
   "file_extension": ".py",
   "mimetype": "text/x-python",
   "name": "python",
   "nbconvert_exporter": "python",
   "pygments_lexer": "ipython3",
   "version": "3.12.7"
  }
 },
 "nbformat": 4,
 "nbformat_minor": 2
}
