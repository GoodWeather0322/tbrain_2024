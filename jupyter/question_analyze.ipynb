{
 "cells": [
  {
   "cell_type": "code",
   "execution_count": 3,
   "metadata": {},
   "outputs": [
    {
     "name": "stdout",
     "output_type": "stream",
     "text": [
      "612\n"
     ]
    }
   ],
   "source": [
    "import json\n",
    "\n",
    "question_json_path = '/Users/goodweather/Desktop/workspace/tbrain_2024/source/競賽資料集/dataset/preliminary/questions_example.json'\n",
    "\n",
    "with open(question_json_path, 'r') as f:\n",
    "    data = json.load(f)\n",
    "questions = data['questions']\n",
    "\n",
    "total_source = []\n",
    "for question in questions:\n",
    "    source = question['source']\n",
    "    total_source += source\n",
    "\n",
    "print(len(set(total_source)))\n",
    "\n"
   ]
  },
  {
   "cell_type": "code",
   "execution_count": null,
   "metadata": {},
   "outputs": [],
   "source": []
  }
 ],
 "metadata": {
  "kernelspec": {
   "display_name": "tbrain2024",
   "language": "python",
   "name": "python3"
  },
  "language_info": {
   "codemirror_mode": {
    "name": "ipython",
    "version": 3
   },
   "file_extension": ".py",
   "mimetype": "text/x-python",
   "name": "python",
   "nbconvert_exporter": "python",
   "pygments_lexer": "ipython3",
   "version": "3.12.7"
  }
 },
 "nbformat": 4,
 "nbformat_minor": 2
}
