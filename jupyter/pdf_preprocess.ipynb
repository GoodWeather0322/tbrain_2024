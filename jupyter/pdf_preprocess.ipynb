{
 "cells": [
  {
   "cell_type": "code",
   "execution_count": 7,
   "metadata": {},
   "outputs": [
    {
     "name": "stdout",
     "output_type": "stream",
     "text": [
      "787\n"
     ]
    },
    {
     "ename": "AttributeError",
     "evalue": "'dict' object has no attribute 'text'",
     "output_type": "error",
     "traceback": [
      "\u001b[0;31m---------------------------------------------------------------------------\u001b[0m",
      "\u001b[0;31mAttributeError\u001b[0m                            Traceback (most recent call last)",
      "Cell \u001b[0;32mIn[7], line 7\u001b[0m\n\u001b[1;32m      5\u001b[0m \u001b[38;5;28mprint\u001b[39m(\u001b[38;5;28mlen\u001b[39m(first_page\u001b[38;5;241m.\u001b[39mchars))\n\u001b[1;32m      6\u001b[0m \u001b[38;5;28;01mfor\u001b[39;00m char \u001b[38;5;129;01min\u001b[39;00m first_page\u001b[38;5;241m.\u001b[39mchars:\n\u001b[0;32m----> 7\u001b[0m     \u001b[38;5;28mprint\u001b[39m(\u001b[43mchar\u001b[49m\u001b[38;5;241;43m.\u001b[39;49m\u001b[43mtext\u001b[49m)\n\u001b[1;32m      8\u001b[0m     \u001b[38;5;28;01mbreak\u001b[39;00m\n",
      "\u001b[0;31mAttributeError\u001b[0m: 'dict' object has no attribute 'text'"
     ]
    }
   ],
   "source": [
    "import pdfplumber\n",
    "\n",
    "with pdfplumber.open(\"/mnt/disk1/goodweather/tbrain_2024/AdvancedLiterateMachinery/Applications/DocXChain/0.pdf\") as pdf:\n",
    "    first_page = pdf.pages[0]\n",
    "    print(len(first_page.chars))\n",
    "    for char in first_page.chars:\n",
    "        print(char.text)\n",
    "        break\n"
   ]
  },
  {
   "cell_type": "code",
   "execution_count": 8,
   "metadata": {},
   "outputs": [
    {
     "data": {
      "image/png": "[encoded data removed]",
      "text/plain": [
       "<pdfplumber.display.PageImage at 0x77ffbdf4d6d0>"
      ]
     },
     "execution_count": 8,
     "metadata": {},
     "output_type": "execute_result"
    }
   ],
   "source": [
    "im = first_page.to_image()\n",
    "im.draw_rects(first_page.extract_words())"
   ]
  },
  {
   "cell_type": "code",
   "execution_count": 13,
   "metadata": {},
   "outputs": [
    {
     "name": "stdout",
     "output_type": "stream",
     "text": [
      "註 10： 本集團於民國 111 年第 1 季投資成立寶元智造公司，由本集團持\n",
      "有 100%股權，另於民國 111 年第 3 季及 112 年第 1 季未依持股比\n",
      "例認購寶元智造公司現金增資發行新股，致持股比例由 100%減少\n",
      "至 80.10%。\n",
      "註 11： 本集團於民國 111 年第 1 季收購 AMX 40%之股權，持股比例由 60%\n",
      "增加至 100%。\n",
      "註 12： 本集團於民國 111 年第 2 季調整投資架構，改由 ACI CN 100%持\n",
      "有上海服創股權。\n",
      "註 13： 本集團於民國 111 年第 2 季投資設立 BEST PLC，本集團持有 100%\n",
      "股權。\n",
      "註 14： 本集團於民國 111 年第 2 季投資設立 BEST SERVO，本集團持有 100%\n",
      "股權。\n",
      "註 15： 本集團於民國 111 年第 4 季調整投資架構，改由本公司 100%持有\n",
      "ADB 股權。\n",
      "註 16： 本集團於民國 111 年第 4 季投資設立 BEST MACHINE，本集團持有\n",
      "100%股權。\n",
      "註 17： 本集團於民國 111 年第 4 季投資設立 BEST AUTOMATION，本集團\n",
      "持有 100%股權。\n",
      "註 18: 本集團於民國 112 年第 1 季投資設立東莞寶元智造公司，本集團\n",
      "持有 100%股權。\n",
      "3.未列入合併財務報告之子公司：無此情形。\n",
      "4.子公司會計期間不同之調整及處理方式：無此情形。\n",
      "5.重大限制：無此情形。\n",
      "6.對本集團具重大性之非控制權益之子公司：無此情形。\n",
      "(四)確定福利計畫\n",
      "期中期間之退休金成本係採用前一年度結束日依精算決定之退休金成 本\n",
      "率，以年初至當期末為基礎計算。若該結束日後有重大市場變動及重大縮\n",
      "減、清償或其他重大一次性事項，則加以調整。\n",
      "(五)所得稅\n",
      "期中期間之所得稅費用以估計之年度平均有效稅率應用至期中期間之稅前\n",
      "損益計算之。\n",
      "五、重大會計判斷、估計及假設不確定性之主要來源\n",
      "本期無重大變動，相關重大會計判斷、估計及假設不確定性之主要來源，請詳民\n",
      "國 111 年合併財報附註五。\n",
      "~20~\n"
     ]
    }
   ],
   "source": [
    "print(first_page.extract_text(x_tolerance=3, x_tolerance_ratio=None, y_tolerance=3, layout=False, x_density=7.25, y_density=13))\n"
   ]
  },
  {
   "cell_type": "code",
   "execution_count": 10,
   "metadata": {},
   "outputs": [],
   "source": [
    "table_settings = {\n",
    "    \"vertical_strategy\": \"lines\",\n",
    "    \"horizontal_strategy\": \"lines\",\n",
    "    \"explicit_vertical_lines\": [],\n",
    "    \"explicit_horizontal_lines\": [],\n",
    "    \"snap_tolerance\": 3,\n",
    "    \"snap_x_tolerance\": 3,\n",
    "    \"snap_y_tolerance\": 3,\n",
    "    \"join_tolerance\": 3,\n",
    "    \"join_x_tolerance\": 3,\n",
    "    \"join_y_tolerance\": 3,\n",
    "    \"edge_min_length\": 3,\n",
    "    \"min_words_vertical\": 3,\n",
    "    \"min_words_horizontal\": 1,\n",
    "    \"intersection_tolerance\": 3,\n",
    "    \"intersection_x_tolerance\": 3,\n",
    "    \"intersection_y_tolerance\": 3,\n",
    "    \"text_tolerance\": 3,\n",
    "    \"text_x_tolerance\": 3,\n",
    "    \"text_y_tolerance\": 3,\n",
    "}\n",
    "first_page.extract_table(table_settings=table_settings)"
   ]
  },
  {
   "cell_type": "code",
   "execution_count": 11,
   "metadata": {},
   "outputs": [],
   "source": [
    "#TODO: \n",
    "# OCR跟文字擷取全部做一遍，OCR有框框，文字擷取也有框框\n",
    "# 如果框框位置文字跟OCR都有，那就用文字結果\n",
    "# 如果只有OCR有，那就用OCR結果"
   ]
  },
  {
   "cell_type": "code",
   "execution_count": null,
   "metadata": {},
   "outputs": [],
   "source": []
  },
  {
   "cell_type": "code",
   "execution_count": null,
   "metadata": {},
   "outputs": [],
   "source": []
  }
 ],
 "metadata": {
  "kernelspec": {
   "display_name": "tbrain2024",
   "language": "python",
   "name": "python3"
  },
  "language_info": {
   "codemirror_mode": {
    "name": "ipython",
    "version": 3
   },
   "file_extension": ".py",
   "mimetype": "text/x-python",
   "name": "python",
   "nbconvert_exporter": "python",
   "pygments_lexer": "ipython3",
   "version": "3.12.7"
  }
 },
 "nbformat": 4,
 "nbformat_minor": 2
}
